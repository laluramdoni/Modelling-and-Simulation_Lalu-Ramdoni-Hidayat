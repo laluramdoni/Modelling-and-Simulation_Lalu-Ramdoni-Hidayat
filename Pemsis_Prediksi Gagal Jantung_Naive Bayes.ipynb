{
 "cells": [
  {
   "cell_type": "markdown",
   "id": "d924f3d5",
   "metadata": {},
   "source": [
    "<center>    <h1>PEMODELAN DAN SIMULASI</h1>   </center>"
   ]
  },
  {
   "cell_type": "markdown",
   "id": "64e3bd16",
   "metadata": {},
   "source": [
    "<h3>Oleh :<h3>\n",
    "    <ol>\n",
    "<h3>Lalu Ramdoni Hidayat (F1D021102)</h3>\n",
    "</ol>"
   ]
  },
  {
   "attachments": {},
   "cell_type": "markdown",
   "id": "3c581728",
   "metadata": {},
   "source": [
    "<div style=\"display:fill;\n",
    "           border-radius:5px;\n",
    "           font-family:montserrat;\n",
    "           letter-spacing:0.5px;\n",
    "           background-color:skyblue;\">\n",
    "\n",
    "<p style=\"padding: 10px;\n",
    "              color:black;\n",
    "              text-align:center;\n",
    "              font-size:200%;\n",
    "              font-weight:800;\">\n",
    "              ~HEART FAILURE PREDICTION~          \n",
    "</p>\n",
    "</div>"
   ]
  },
  {
   "attachments": {},
   "cell_type": "markdown",
   "id": "6ab2603e",
   "metadata": {},
   "source": [
    "<div style=\"display:fill;\n",
    "           border-radius:5px;\n",
    "           font-family:montserrat;\n",
    "           letter-spacing:0.5px;\n",
    "           background-color:skyblue;\">\n",
    "\n",
    "<p style=\"padding: 10px;\n",
    "              color:black;\n",
    "              text-align:center;\n",
    "              font-size:200%;\n",
    "              font-weight:800;\">\n",
    "              Prediksi Penyakit Jantung Menggunakan Metode Naive Bayes             \n",
    "</p>\n",
    "</div>"
   ]
  },
  {
   "attachments": {},
   "cell_type": "markdown",
   "id": "649a6311",
   "metadata": {},
   "source": [
    "<div style=\"color:orange;\n",
    "           display:fill;\n",
    "           border-radius:5px;\n",
    "           font-family:montserrat;\n",
    "           letter-spacing:0.5px;\n",
    "            text-align:center;\n",
    "            padding: 1px;\">\n",
    "\n",
    "<p style=\"padding: 6px;\n",
    "            color:white;\n",
    "            text-align:center;\n",
    "            font-size:150%;\">\n",
    "            Description of Project\n",
    "</p>\n",
    "</div>"
   ]
  },
  {
   "attachments": {},
   "cell_type": "markdown",
   "id": "b2ad1bd4",
   "metadata": {},
   "source": [
    "<div style=\"color:orange;\n",
    "           display:fill;\n",
    "           border-radius:5px;\n",
    "           font-family:montserrat;\n",
    "           letter-spacing:0.5px;\n",
    "            text-align:center;\n",
    "            padding: 1px;\">\n",
    "\n",
    "<p style=\"padding: 6px;\n",
    "            color:white;\n",
    "            text-align:center;\n",
    "            font-size:150%;\">\n",
    "            Tentang Kasus !\n",
    "</p>\n",
    "</div>\n"
   ]
  },
  {
   "attachments": {},
   "cell_type": "markdown",
   "id": "f0b6916b",
   "metadata": {},
   "source": [
    "\n",
    "    \n",
    "<p style=\"text-align: justify;\"> CVDs/Cardiovascular Diseases (Penyakit Kardiovaskular) adalah kelompok penyakit yang melibatkan jantung dan merupakan penyebab utama kematian di seluruh dunia, menyebabkan sekitar 17,9 juta kematian setiap tahun atau sekitar 31% dari total kematian global. Gagal jantung adalah masalah umum yang terjadi akibat CVD, dan dataset ini mengandung 15 fitur yang dapat digunakan untuk memprediksi kematian yang disebabkan oleh gagal jantung.</p>\n",
    "\n",
    "<p style=\"text-align: justify;\">Sebagian besar CVDs dapat dicegah dengan mengatasi faktor risiko perilaku, seperti penggunaan tembakau, pola makan yang tidak sehat dan obesitas, kurangnya aktivitas fisik, dan konsumsi alkohol yang berlebihan, melalui strategi yang diimplementasikan dalam populasi secara keseluruhan.</p>\n",
    "\n",
    "<p style=\"text-align: justify;\">Orang yang menderita penyakit kardiovaskular atau memiliki risiko tinggi terkena penyakit tersebut (karena memiliki satu atau lebih faktor risiko seperti hipertensi, diabetes, hiperlipidemia, atau riwayat penyakit yang sudah ada) membutuhkan deteksi dan manajemen dini. Dalam hal ini, model pembelajaran mesin dapat memberikan bantuan yang signifikan.</p>\n",
    "   "
   ]
  },
  {
   "attachments": {},
   "cell_type": "markdown",
   "id": "2fa8bedf",
   "metadata": {},
   "source": [
    "<div style=\"color:orange;\n",
    "           display:fill;\n",
    "           border-radius:5px;\n",
    "           font-family:montserrat;\n",
    "           letter-spacing:0.5px;\n",
    "            text-align:center;\n",
    "            padding: 1px;\">\n",
    "\n",
    "<p style=\"padding: 6px;\n",
    "            color:white;\n",
    "            text-align:center;\n",
    "            font-size:150%;\">\n",
    "            Tujuan !\n",
    "</p>\n",
    "</div>"
   ]
  },
  {
   "attachments": {},
   "cell_type": "markdown",
   "id": "f47cc338",
   "metadata": {},
   "source": [
    "Tujuan dari analisis penyakit jantung menggunakan metode Naive Bayes adalah untuk membangun model klasifikasi yang dapat mengidentifikasi apakah seseorang menderita penyakit jantung berdasarkan data yang diberikan. \n",
    "Dengan menggunakan metode Naive Bayes, kita dapat memanfaatkan hubungan probabilistik antara fitur-fitur yang ada (seperti usia, jenis kelamin, tekanan darah, dan sebagainya) untuk menghasilkan prediksi yang akurat tentang kondisi seseorang apakah memiliki penyakit jantung atau tidak."
   ]
  },
  {
   "attachments": {},
   "cell_type": "markdown",
   "id": "e142582d",
   "metadata": {},
   "source": [
    "<div style=\"color:orange;\n",
    "           display:fill;\n",
    "           border-radius:5px;\n",
    "           font-family:montserrat;\n",
    "           letter-spacing:0.5px;\n",
    "            text-align:center;\n",
    "            padding: 1px;\">\n",
    "\n",
    "<p style=\"padding: 6px;\n",
    "            color:white;\n",
    "            text-align:center;\n",
    "            font-size:150%;\">\n",
    "            Hipotesis !\n",
    "</p>\n",
    "</div>"
   ]
  },
  {
   "attachments": {},
   "cell_type": "markdown",
   "id": "cbcaae99",
   "metadata": {},
   "source": [
    "-H0 (Hipotesis Nol): Tidak ada hubungan antara faktor risiko yang terkait dengan penyakit jantung dan kondisi pasien.\n",
    "\n",
    "-H1 (Hipotesis Alternatif): Terdapat hubungan antara faktor risiko yang terkait dengan penyakit jantung dan kondisi pasien.\n",
    "\n",
    "<p style=\"text-align: justify;\">Dalam konteks ini, H0 menyatakan bahwa tidak ada hubungan yang signifikan antara faktor risiko seperti usia, jenis kelamin, tekanan darah, kadar kolesterol, dan faktor lainnya dengan kondisi pasien yang mengidap penyakit jantung. Sedangkan H1 menyatakan bahwa ada hubungan yang signifikan antara faktor risiko tersebut dengan kondisi pasien yang mengidap penyakit jantung.</p>"
   ]
  },
  {
   "attachments": {},
   "cell_type": "markdown",
   "id": "49936c97",
   "metadata": {},
   "source": [
    "<div style=\"color:orange;\n",
    "           display:fill;\n",
    "           border-radius:5px;\n",
    "           font-family:montserrat;\n",
    "           letter-spacing:0.5px;\n",
    "            text-align:center;\n",
    "            padding: 1px;\">\n",
    "\n",
    "<p style=\"padding: 6px;\n",
    "            color:white;\n",
    "            text-align:center;\n",
    "            font-size:150%;\">\n",
    "            Dasar Teori !\n",
    "</p>\n",
    "</div>"
   ]
  },
  {
   "attachments": {},
   "cell_type": "markdown",
   "id": "3809c21d",
   "metadata": {},
   "source": [
    "<p style=\"text-align: justify;\"> Metode Naive Bayes memanfaatkan teori probabilitas dan teorema Bayes untuk melakukan klasifikasi pada data. Dalam analisis penyakit jantung, metode ini mempelajari hubungan antara faktor risiko seperti usia, jenis kelamin, tekanan darah, kadar kolesterol, dan lainnya dengan kondisi pasien yang mengidap penyakit jantung. Berdasarkan data latih, model Naive Bayes menghitung probabilitas posterior untuk setiap kondisi yang mungkin (misalnya, memiliki atau tidak memiliki penyakit jantung) dan menggunakan probabilitas tersebut untuk mengklasifikasikan pasien baru.</p>\n",
    "<p style=\"text-align: justify;\"> Metode bayes berasal dari teorema bayes yang menjelaskan representasi invers probabilitas dua kejadian. Teorema ini merupakan dasar dari statistika bayes. Selain itu metode ini merupakan bagian dari teknik probabilitas, dengan berfokus pada konsep probabilitas kejadian dan evidence. </p>\n",
    "<p style=\"text-align: justify;\"> Pengklasifikasi Naive Bayes sangat terukur, membutuhkan sejumlah parameter linier dalam jumlah variabel (fitur/prediktor) dalam masalah pembelajaran. Pelatihan kemungkinan maksimum dapat dilakukan dengan mengevaluasi ekspresi bentuk tertutup, yang membutuhkan waktu linier, daripada dengan pendekatan iteratif yang mahal seperti yang digunakan untuk banyak jenis pengklasifikasi lainnya.</p>"
   ]
  },
  {
   "attachments": {},
   "cell_type": "markdown",
   "id": "055d865f",
   "metadata": {},
   "source": [
    "Data yang digunakan adalah Heart Diseases UCI yaitu data pasien yang memiliki penyakit jantung atau tidak\n",
    "Keterangan variabel :\n",
    "<ol>\n",
    "<li>Age: umur (tahun)</li>\n",
    "<li>sex: jenis kelamin (1 = laki-laki; 0 = perempuan)</li>\n",
    "<li>cp: tipe nyeri dada</li>\n",
    "<li>trestbps: tekanan darah istirahat (dalam mm Hg saat masuk ke rumah sakit)</li>\n",
    "<li>kol: serum kolestoral dalam mg / dl</li>\n",
    "<li>fbs : gula darah puasa> 120 mg / dl → (1 = benar; 0 = salah)</li>\n",
    "<li>restecg: hasil elektrokardiografi istirahat</li>\n",
    "<li>restecg: hasil elektrokardiografi istirahat</li>\n",
    "<li>thalach: detak jantung maksimum</li>\n",
    "<li>exang: angina yang diinduksi olahraga (1 = ya; 0 = tidak)</li>\n",
    "<li>oldpeak: ST depression induced by exercise relative to rest</li>\n",
    "<li>slope: the slope of the peak exercise ST segment</li>\n",
    "<li>ca: jumlah pembuluh darah utama (0–3) diwarnai dengan fluoroskopi</li>\n",
    "<li>thal: 3 = normal; 6 = fixed defect; 7 = reversible defect</li>\n",
    "<li>condition: memiliki penyakit atau tidak (1 = ya, 0 = tidak)</li>\n",
    "</ol>\n",
    " "
   ]
  },
  {
   "attachments": {},
   "cell_type": "markdown",
   "id": "5261b94d",
   "metadata": {},
   "source": [
    "<div style=\"color:orange;\n",
    "           display:fill;\n",
    "           border-radius:5px;\n",
    "           font-family:montserrat;\n",
    "           letter-spacing:0.5px;\n",
    "            text-align:center;\n",
    "            padding: 1px;\">\n",
    "\n",
    "<p style=\"padding: 6px;\n",
    "            color:white;\n",
    "            text-align:center;\n",
    "            font-size:150%;\">\n",
    "            IMPLEMENTASI NAIVE BAYES DALAM DATA PASIEN PENYAKIT JANTUNG !\n",
    "</p>\n",
    "</div>"
   ]
  },
  {
   "cell_type": "code",
   "execution_count": 4,
   "id": "7137aace",
   "metadata": {},
   "outputs": [],
   "source": [
    "import pandas as pd\n",
    "from sklearn.model_selection import train_test_split\n",
    "from sklearn.naive_bayes import GaussianNB\n",
    "from sklearn.metrics import accuracy_score\n",
    "import numpy as np\n",
    "import matplotlib.pyplot as plt\n",
    "import seaborn as sns"
   ]
  },
  {
   "attachments": {},
   "cell_type": "markdown",
   "id": "fb5e37a7",
   "metadata": {},
   "source": [
    "Fungsi import pandas as pd digunakan untuk mengimpor modul pandas ke dalam program Python. Modul pandas adalah salah satu library yang populer digunakan untuk analisis dan manipulasi data dalam Python. Dengan mengimpor modul pandas dan memberikannya alias pd, kita dapat menggunakan berbagai fungsi dan fitur yang disediakan oleh pandas dalam program kita.\n",
    "\n",
    "-train_test_split: Fungsi ini digunakan untuk membagi dataset menjadi subset pelatihan dan subset pengujian. Dalam pemodelan, dataset biasanya dibagi menjadi data pelatihan untuk melatih model dan data pengujian untuk menguji kinerja model yang telah dilatih.\n",
    "\n",
    "-GaussianNB: Fungsi ini mengimplementasikan algoritma klasifikasi Naive Bayes dengan distribusi Gaussian (atau distribusi normal). Algoritma ini cocok digunakan ketika data numerik atau kontinu dianggap mengikuti distribusi Gaussian.\n",
    "\n",
    "-accuracy_score: Fungsi ini digunakan untuk menghitung akurasi prediksi model. Akurasi adalah metrik evaluasi yang mengukur sejauh mana model dapat memprediksi dengan benar pada data pengujian. Fungsi ini membandingkan label yang diprediksi oleh model dengan label yang sebenarnya dari data pengujian.\n",
    "\n",
    "Dengan mengimpor modul sklearn.model_selection dan sklearn.naive_bayes, serta fungsi train_test_split, GaussianNB, dan accuracy_score, kita dapat menggunakan fitur-fitur ini dalam pemodelan dan evaluasi menggunakan algoritma Naive Bayes.\n",
    "Dengan mengimpor modul numpy dan matplotlib.pyplot, serta memberikan alias np dan plt masing-masing, kita dapat menggunakan fungsi-fungsi dalam modul tersebut untuk melakukan operasi numerik dan membuat plot. Sementara itu, dengan mengimpor modul seaborn dengan alias sns, kita dapat menggunakan fitur-fitur visualisasi tambahan yang disediakan oleh seaborn untuk meningkatkan estetika dan informasi dari plot yang dibuat.\n"
   ]
  },
  {
   "attachments": {},
   "cell_type": "markdown",
   "id": "3e174dff",
   "metadata": {},
   "source": [
    "<div style=\"color:orange;\n",
    "           display:fill;\n",
    "           border-radius:5px;\n",
    "           font-family:montserrat;\n",
    "           letter-spacing:0.5px;\n",
    "            text-align:center;\n",
    "            padding: 1px;\">\n",
    "\n",
    "<p style=\"padding: 6px;\n",
    "            color:white;\n",
    "            text-align:center;\n",
    "            font-size:150%;\">            \n",
    "            Preprocessing Data\n",
    "</p>\n",
    "</div>"
   ]
  },
  {
   "cell_type": "code",
   "execution_count": 5,
   "id": "c67967c4",
   "metadata": {},
   "outputs": [
    {
     "data": {
      "text/html": [
       "<div>\n",
       "<style scoped>\n",
       "    .dataframe tbody tr th:only-of-type {\n",
       "        vertical-align: middle;\n",
       "    }\n",
       "\n",
       "    .dataframe tbody tr th {\n",
       "        vertical-align: top;\n",
       "    }\n",
       "\n",
       "    .dataframe thead th {\n",
       "        text-align: right;\n",
       "    }\n",
       "</style>\n",
       "<table border=\"1\" class=\"dataframe\">\n",
       "  <thead>\n",
       "    <tr style=\"text-align: right;\">\n",
       "      <th></th>\n",
       "      <th>age</th>\n",
       "      <th>sex</th>\n",
       "      <th>cp</th>\n",
       "      <th>trestbps</th>\n",
       "      <th>chol</th>\n",
       "      <th>fbs</th>\n",
       "      <th>restecg</th>\n",
       "      <th>thalach</th>\n",
       "      <th>exang</th>\n",
       "      <th>oldpeak</th>\n",
       "      <th>slope</th>\n",
       "      <th>ca</th>\n",
       "      <th>thal</th>\n",
       "      <th>condition</th>\n",
       "    </tr>\n",
       "  </thead>\n",
       "  <tbody>\n",
       "    <tr>\n",
       "      <th>0</th>\n",
       "      <td>69</td>\n",
       "      <td>1</td>\n",
       "      <td>0</td>\n",
       "      <td>160</td>\n",
       "      <td>234</td>\n",
       "      <td>1</td>\n",
       "      <td>2</td>\n",
       "      <td>131</td>\n",
       "      <td>0</td>\n",
       "      <td>0.1</td>\n",
       "      <td>1</td>\n",
       "      <td>1</td>\n",
       "      <td>0</td>\n",
       "      <td>0</td>\n",
       "    </tr>\n",
       "    <tr>\n",
       "      <th>1</th>\n",
       "      <td>69</td>\n",
       "      <td>0</td>\n",
       "      <td>0</td>\n",
       "      <td>140</td>\n",
       "      <td>239</td>\n",
       "      <td>0</td>\n",
       "      <td>0</td>\n",
       "      <td>151</td>\n",
       "      <td>0</td>\n",
       "      <td>1.8</td>\n",
       "      <td>0</td>\n",
       "      <td>2</td>\n",
       "      <td>0</td>\n",
       "      <td>0</td>\n",
       "    </tr>\n",
       "    <tr>\n",
       "      <th>2</th>\n",
       "      <td>66</td>\n",
       "      <td>0</td>\n",
       "      <td>0</td>\n",
       "      <td>150</td>\n",
       "      <td>226</td>\n",
       "      <td>0</td>\n",
       "      <td>0</td>\n",
       "      <td>114</td>\n",
       "      <td>0</td>\n",
       "      <td>2.6</td>\n",
       "      <td>2</td>\n",
       "      <td>0</td>\n",
       "      <td>0</td>\n",
       "      <td>0</td>\n",
       "    </tr>\n",
       "    <tr>\n",
       "      <th>3</th>\n",
       "      <td>65</td>\n",
       "      <td>1</td>\n",
       "      <td>0</td>\n",
       "      <td>138</td>\n",
       "      <td>282</td>\n",
       "      <td>1</td>\n",
       "      <td>2</td>\n",
       "      <td>174</td>\n",
       "      <td>0</td>\n",
       "      <td>1.4</td>\n",
       "      <td>1</td>\n",
       "      <td>1</td>\n",
       "      <td>0</td>\n",
       "      <td>1</td>\n",
       "    </tr>\n",
       "    <tr>\n",
       "      <th>4</th>\n",
       "      <td>64</td>\n",
       "      <td>1</td>\n",
       "      <td>0</td>\n",
       "      <td>110</td>\n",
       "      <td>211</td>\n",
       "      <td>0</td>\n",
       "      <td>2</td>\n",
       "      <td>144</td>\n",
       "      <td>1</td>\n",
       "      <td>1.8</td>\n",
       "      <td>1</td>\n",
       "      <td>0</td>\n",
       "      <td>0</td>\n",
       "      <td>0</td>\n",
       "    </tr>\n",
       "  </tbody>\n",
       "</table>\n",
       "</div>"
      ],
      "text/plain": [
       "   age  sex  cp  trestbps  chol  fbs  restecg  thalach  exang  oldpeak  slope   \n",
       "0   69    1   0       160   234    1        2      131      0      0.1      1  \\\n",
       "1   69    0   0       140   239    0        0      151      0      1.8      0   \n",
       "2   66    0   0       150   226    0        0      114      0      2.6      2   \n",
       "3   65    1   0       138   282    1        2      174      0      1.4      1   \n",
       "4   64    1   0       110   211    0        2      144      1      1.8      1   \n",
       "\n",
       "   ca  thal  condition  \n",
       "0   1     0          0  \n",
       "1   2     0          0  \n",
       "2   0     0          0  \n",
       "3   1     0          1  \n",
       "4   0     0          0  "
      ]
     },
     "execution_count": 5,
     "metadata": {},
     "output_type": "execute_result"
    }
   ],
   "source": [
    "heart = pd.read_csv(\"heart_cleveland_upload.csv\") #data tentang penyakit jantung pada pasien\n",
    "heart.head()"
   ]
  },
  {
   "attachments": {},
   "cell_type": "markdown",
   "id": "a29a551f",
   "metadata": {},
   "source": [
    "untuk membaca file CSV yang berisi data tentang penyakit jantung pada pasien dan menampilkan beberapa baris pertama dari data tersebut.\n",
    "pd.read_csv(\"heart_cleveland_upload.csv\") digunakan untuk membaca file CSV dengan nama \"heart_cleveland_upload.csv\" dan menyimpannya dalam variabel heart.\n",
    "Setelah data dibaca, heart.head() digunakan untuk menampilkan beberapa baris pertama dari data tersebut. Fungsi .head() adalah untuk mengambil beberapa baris teratas sebagai outputnya dan menampilkan 5 baris pertama dari data."
   ]
  },
  {
   "cell_type": "code",
   "execution_count": 6,
   "id": "b54c7ccc",
   "metadata": {},
   "outputs": [
    {
     "name": "stdout",
     "output_type": "stream",
     "text": [
      "<class 'pandas.core.frame.DataFrame'>\n",
      "RangeIndex: 297 entries, 0 to 296\n",
      "Data columns (total 14 columns):\n",
      " #   Column     Non-Null Count  Dtype  \n",
      "---  ------     --------------  -----  \n",
      " 0   age        297 non-null    int64  \n",
      " 1   sex        297 non-null    int64  \n",
      " 2   cp         297 non-null    int64  \n",
      " 3   trestbps   297 non-null    int64  \n",
      " 4   chol       297 non-null    int64  \n",
      " 5   fbs        297 non-null    int64  \n",
      " 6   restecg    297 non-null    int64  \n",
      " 7   thalach    297 non-null    int64  \n",
      " 8   exang      297 non-null    int64  \n",
      " 9   oldpeak    297 non-null    float64\n",
      " 10  slope      297 non-null    int64  \n",
      " 11  ca         297 non-null    int64  \n",
      " 12  thal       297 non-null    int64  \n",
      " 13  condition  297 non-null    int64  \n",
      "dtypes: float64(1), int64(13)\n",
      "memory usage: 32.6 KB\n"
     ]
    }
   ],
   "source": [
    "#melihat jenis data masing-masing kolom\n",
    "heart.info()"
   ]
  },
  {
   "attachments": {},
   "cell_type": "markdown",
   "id": "07ae6ef8",
   "metadata": {},
   "source": [
    "Fungsi heart.info() digunakan untuk mendapatkan informasi tentang sebuah DataFrame juga memberikan output yang mencakup beberapa informasi penting, seperti nama kolom, jumlah nilai non-null dalam setiap kolom, tipe data dari setiap kolom, dan lainnya.\n",
    "-RangeIndex: 297 entries, 0 to 296: Menunjukkan rentang indeks dari DataFrame, yaitu dari 0 hingga 296, dengan total 297 entri.\n",
    "-Data columns (total 14 columns): Menunjukkan bahwa DataFrame memiliki 14 kolom.\n",
    "-Column Non-Null Count Dtype: Bagian ini menampilkan nama kolom, jumlah nilai non-null dalam setiap kolom, dan tipe data (Dtype) dari setiap kolom.\n",
    "-dtypes: int64(13), ...: Menunjukkan tipe data dari setiap kolom. Dalam contoh ini, sebagian besar kolom memiliki tipe data int64."
   ]
  },
  {
   "cell_type": "code",
   "execution_count": 7,
   "id": "cf8e23ce",
   "metadata": {},
   "outputs": [
    {
     "data": {
      "text/plain": [
       "condition\n",
       "0    160\n",
       "1    137\n",
       "Name: count, dtype: int64"
      ]
     },
     "execution_count": 7,
     "metadata": {},
     "output_type": "execute_result"
    }
   ],
   "source": [
    "#melihat dari data berapa pasien yang mengidap penyakit jantung\n",
    "heart.condition.value_counts()"
   ]
  },
  {
   "attachments": {},
   "cell_type": "markdown",
   "id": "698fc75a",
   "metadata": {},
   "source": [
    "Diketauhi pasien yang terkena penyakit jantung sebanyak 160 dari 303 pasien."
   ]
  },
  {
   "attachments": {},
   "cell_type": "markdown",
   "id": "79c53234",
   "metadata": {},
   "source": [
    "Fungsi heart.condition.value_counts()untuk menghitung jumlah kemunculan setiap nilai dalam kolom 'condition'.\n",
    "\n",
    "Dalam data, kita memiliki dua nilai unik dalam kolom 'condition', yaitu 0 dan 1. Output tersebut memberikan informasi bahwa terdapat 160 pasien yang memiliki nilai 'condition' sama dengan 0 dan 137 pasien dengan nilai 'condition' sama dengan 1.\n",
    "\n",
    "Berdasarkan informasi , dapat diketahui bahwa dari total 303 pasien yang ada, sebanyak 160 pasien terkena penyakit jantung (nilai 'condition' sama dengan 0) dan 137 pasien tidak terkena penyakit jantung (nilai 'condition' sama dengan 1).\n"
   ]
  },
  {
   "cell_type": "code",
   "execution_count": 8,
   "id": "7b6eee96",
   "metadata": {},
   "outputs": [
    {
     "data": {
      "image/png": "[encoded data removed]",
      "text/plain": [
       "<Figure size 700x500 with 1 Axes>"
      ]
     },
     "metadata": {},
     "output_type": "display_data"
    }
   ],
   "source": [
    "#visualisasi terkena penyakit jantung\n",
    "f, ax = plt.subplots(figsize=(7, 5))\n",
    "sns.countplot(y=\"condition\", data=heart, palette=\"mako_r\");"
   ]
  },
  {
   "attachments": {},
   "cell_type": "markdown",
   "id": "61251b44",
   "metadata": {},
   "source": [
    "Pada baris pertama, f, ax = plt.subplots(figsize=(7, 5)), kita membuat sebuah figure dengan ukuran 7x5 menggunakan plt.subplots(). Variabel f akan menyimpan objek figure, sedangkan variabel ax akan menyimpan objek axes yang akan digunakan untuk menggambar plot.\n",
    "\n",
    "Selanjutnya, pada baris kedua, sns.countplot(y=\"condition\", data=heart, palette=\"mako_r\"), kita menggunakan fungsi countplot dari library seaborn (disingkat sebagai sns) untuk membuat grafik yang menunjukkan jumlah kasus berdasarkan kondisi penyakit jantung yang terdapat dalam dataset yang disebut heart.\n",
    "\n",
    "Parameter y=\"condition\" menunjukkan bahwa sumbu y pada plot akan mewakili variabel \"condition\", yang mungkin berisi beberapa kondisi yang berbeda terkait dengan penyakit jantung.\n",
    "\n",
    "Parameter data=heart menunjukkan bahwa data yang akan digunakan untuk membuat plot berasal dari dataset yang disebut heart.\n",
    "\n",
    "Parameter palette=\"mako_r\" digunakan untuk menentukan skema warna yang akan digunakan pada plot. Dalam hal ini, skema warna yang digunakan adalah \"mako_r\", yang merupakan variasi dari skema warna mako dengan urutan warna yang terbalik (dari warna terang ke warna gelap).\n",
    "\n",
    "Dengan menggunakan countplot, kita dapat dengan mudah melihat distribusi jumlah kasus untuk setiap kondisi penyakit jantung yang ada dalam dataset heart dengan menggunakan grafik batang yang dihasilkan."
   ]
  },
  {
   "cell_type": "code",
   "execution_count": 9,
   "id": "6f0877a9",
   "metadata": {},
   "outputs": [
    {
     "data": {
      "image/png": "[encoded data removed]",
      "text/plain": [
       "<Figure size 1500x600 with 1 Axes>"
      ]
     },
     "metadata": {},
     "output_type": "display_data"
    }
   ],
   "source": [
    "#visualisasi pengidap penyakit jantung berdasarkan jenis kelamin\n",
    "pd.crosstab(heart.sex,heart.condition).plot(kind=\"bar\",figsize=(15,6),color=['blue','#AA1111' ])\n",
    "plt.title('Heart Disease Frequency for Sex')\n",
    "plt.xlabel('Sex (0 = Female, 1 = Male)')\n",
    "plt.xticks(rotation=0)\n",
    "plt.legend([\"Haven't Disease\", \"Have Disease\"])\n",
    "plt.ylabel('Frequency')\n",
    "plt.show()"
   ]
  },
  {
   "attachments": {},
   "cell_type": "markdown",
   "id": "ff86887a",
   "metadata": {},
   "source": [
    "Pada baris pertama, pd.crosstab(heart.sex,heart.condition).plot(kind=\"bar\",figsize=(15,6),color=['blue','#AA1111' ]), kita menggunakan fungsi crosstab dari library pandas (disingkat sebagai pd) untuk menghitung frekuensi jumlah kasus penyakit jantung berdasarkan jenis kelamin. Selanjutnya, kita menggunakan fungsi plot dengan parameter kind=\"bar\" untuk membuat grafik bar. Parameter figsize=(15,6) digunakan untuk mengatur ukuran plot, sedangkan parameter color=['blue','#AA1111' ] digunakan untuk menentukan warna batang grafik.\n",
    "\n",
    "Pada baris-baris selanjutnya, kita menggunakan fungsi-fungsi dari library matplotlib untuk menambahkan judul plot seperti biasa.\n",
    "\n",
    "Dengan menggunakan code di atas, kita dapat dengan mudah melihat frekuensi jumlah kasus penyakit jantung berdasarkan jenis kelamin dalam bentuk grafik batang. Warna biru mewakili kasus yang tidak memiliki penyakit jantung, sedangkan warna merah mewakili kasus yang memiliki penyakit jantung."
   ]
  },
  {
   "cell_type": "code",
   "execution_count": 10,
   "id": "08a5e948",
   "metadata": {},
   "outputs": [
    {
     "data": {
      "image/png": "[encoded data removed]",
      "text/plain": [
       "<Figure size 640x480 with 1 Axes>"
      ]
     },
     "metadata": {},
     "output_type": "display_data"
    }
   ],
   "source": [
    "sns.countplot(x='sex', data=heart, palette=\"bwr\")\n",
    "plt.xlabel(\"Sex (0 = female, 1= male)\")\n",
    "plt.show()"
   ]
  },
  {
   "attachments": {},
   "cell_type": "markdown",
   "id": "6710436d",
   "metadata": {},
   "source": [
    "Pada baris pertama, sns.countplot(x='sex', data=heart, palette=\"bwr\"), kita menggunakan fungsi countplot dari library seaborn (disingkat sebagai sns) untuk menghitung dan menampilkan jumlah kasus penyakit jantung berdasarkan jenis kelamin. Parameter x='sex' menunjukkan bahwa sumbu x pada plot akan mewakili variabel \"sex\" yang merupakan jenis kelamin. Parameter data=heart menunjukkan bahwa data yang digunakan berasal dari dataset heart. Parameter palette=\"bwr\" digunakan untuk menentukan skema warna yang akan digunakan pada plot.\n",
    "\n",
    "Pada baris kedua, plt.xlabel(\"Sex (0 = female, 1= male)\"), kita menggunakan fungsi xlabel dari library matplotlib untuk menambahkan label pada sumbu x yang menjelaskan arti nilai-nilai pada sumbu x. Dalam hal ini, label tersebut adalah \"Sex (0 = female, 1 = male)\".\n",
    "\n",
    "Dengan menggunakan code di atas, kita dapat dengan mudah melihat distribusi jumlah kasus penyakit jantung berdasarkan jenis kelamin dalam bentuk grafik bar. Nilai 0 pada sumbu x mewakili jenis kelamin perempuan, sedangkan nilai 1 mewakili jenis kelamin laki-laki."
   ]
  },
  {
   "cell_type": "code",
   "execution_count": 11,
   "id": "1994d469",
   "metadata": {},
   "outputs": [
    {
     "data": {
      "image/png": "[encoded data removed]",
      "text/plain": [
       "<Figure size 1500x600 with 1 Axes>"
      ]
     },
     "metadata": {},
     "output_type": "display_data"
    }
   ],
   "source": [
    "plt.figure(figsize=(15,6))\n",
    "sns.countplot(x='age',data = heart, hue = 'condition',palette='mako_r')\n",
    "plt.show()"
   ]
  },
  {
   "attachments": {},
   "cell_type": "markdown",
   "id": "d8ed2214",
   "metadata": {},
   "source": [
    "Code di atas digunakan untuk membuat visualisasi grafik batang yang menampilkan jumlah kasus penyakit jantung berdasarkan rentang usia. Ukuran (figsize) plot ditentukan dengan 15 unit lebar dan 6 unit tinggi. Dalam plot ini, sumbu x menunjukkan variabel \"age\" yang merepresentasikan rentang usia, sedangkan sumbu y menunjukkan jumlah kasus. Warna plot dibedakan berdasarkan kondisi penyakit, yaitu apakah seseorang memiliki penyakit jantung atau tidak, dengan menggunakan skema warna 'mako_r'. Hasil visualisasi tersebut ditampilkan pada layar."
   ]
  },
  {
   "cell_type": "code",
   "execution_count": 12,
   "id": "83be754f",
   "metadata": {},
   "outputs": [
    {
     "data": {
      "text/html": [
       "<div>\n",
       "<style scoped>\n",
       "    .dataframe tbody tr th:only-of-type {\n",
       "        vertical-align: middle;\n",
       "    }\n",
       "\n",
       "    .dataframe tbody tr th {\n",
       "        vertical-align: top;\n",
       "    }\n",
       "\n",
       "    .dataframe thead th {\n",
       "        text-align: right;\n",
       "    }\n",
       "</style>\n",
       "<table border=\"1\" class=\"dataframe\">\n",
       "  <thead>\n",
       "    <tr style=\"text-align: right;\">\n",
       "      <th></th>\n",
       "      <th>age</th>\n",
       "      <th>sex</th>\n",
       "      <th>cp</th>\n",
       "      <th>trestbps</th>\n",
       "      <th>chol</th>\n",
       "      <th>fbs</th>\n",
       "      <th>restecg</th>\n",
       "      <th>thalach</th>\n",
       "      <th>exang</th>\n",
       "      <th>oldpeak</th>\n",
       "      <th>slope</th>\n",
       "      <th>ca</th>\n",
       "      <th>thal</th>\n",
       "    </tr>\n",
       "  </thead>\n",
       "  <tbody>\n",
       "    <tr>\n",
       "      <th>0</th>\n",
       "      <td>69</td>\n",
       "      <td>1</td>\n",
       "      <td>0</td>\n",
       "      <td>160</td>\n",
       "      <td>234</td>\n",
       "      <td>1</td>\n",
       "      <td>2</td>\n",
       "      <td>131</td>\n",
       "      <td>0</td>\n",
       "      <td>0.1</td>\n",
       "      <td>1</td>\n",
       "      <td>1</td>\n",
       "      <td>0</td>\n",
       "    </tr>\n",
       "    <tr>\n",
       "      <th>1</th>\n",
       "      <td>69</td>\n",
       "      <td>0</td>\n",
       "      <td>0</td>\n",
       "      <td>140</td>\n",
       "      <td>239</td>\n",
       "      <td>0</td>\n",
       "      <td>0</td>\n",
       "      <td>151</td>\n",
       "      <td>0</td>\n",
       "      <td>1.8</td>\n",
       "      <td>0</td>\n",
       "      <td>2</td>\n",
       "      <td>0</td>\n",
       "    </tr>\n",
       "    <tr>\n",
       "      <th>2</th>\n",
       "      <td>66</td>\n",
       "      <td>0</td>\n",
       "      <td>0</td>\n",
       "      <td>150</td>\n",
       "      <td>226</td>\n",
       "      <td>0</td>\n",
       "      <td>0</td>\n",
       "      <td>114</td>\n",
       "      <td>0</td>\n",
       "      <td>2.6</td>\n",
       "      <td>2</td>\n",
       "      <td>0</td>\n",
       "      <td>0</td>\n",
       "    </tr>\n",
       "    <tr>\n",
       "      <th>3</th>\n",
       "      <td>65</td>\n",
       "      <td>1</td>\n",
       "      <td>0</td>\n",
       "      <td>138</td>\n",
       "      <td>282</td>\n",
       "      <td>1</td>\n",
       "      <td>2</td>\n",
       "      <td>174</td>\n",
       "      <td>0</td>\n",
       "      <td>1.4</td>\n",
       "      <td>1</td>\n",
       "      <td>1</td>\n",
       "      <td>0</td>\n",
       "    </tr>\n",
       "    <tr>\n",
       "      <th>4</th>\n",
       "      <td>64</td>\n",
       "      <td>1</td>\n",
       "      <td>0</td>\n",
       "      <td>110</td>\n",
       "      <td>211</td>\n",
       "      <td>0</td>\n",
       "      <td>2</td>\n",
       "      <td>144</td>\n",
       "      <td>1</td>\n",
       "      <td>1.8</td>\n",
       "      <td>1</td>\n",
       "      <td>0</td>\n",
       "      <td>0</td>\n",
       "    </tr>\n",
       "  </tbody>\n",
       "</table>\n",
       "</div>"
      ],
      "text/plain": [
       "   age  sex  cp  trestbps  chol  fbs  restecg  thalach  exang  oldpeak  slope   \n",
       "0   69    1   0       160   234    1        2      131      0      0.1      1  \\\n",
       "1   69    0   0       140   239    0        0      151      0      1.8      0   \n",
       "2   66    0   0       150   226    0        0      114      0      2.6      2   \n",
       "3   65    1   0       138   282    1        2      174      0      1.4      1   \n",
       "4   64    1   0       110   211    0        2      144      1      1.8      1   \n",
       "\n",
       "   ca  thal  \n",
       "0   1     0  \n",
       "1   2     0  \n",
       "2   0     0  \n",
       "3   1     0  \n",
       "4   0     0  "
      ]
     },
     "execution_count": 12,
     "metadata": {},
     "output_type": "execute_result"
    }
   ],
   "source": [
    "# Variabel independen\n",
    "x = heart.drop([\"condition\"], axis = 1)\n",
    "x.head()"
   ]
  },
  {
   "attachments": {},
   "cell_type": "markdown",
   "id": "3803e60e",
   "metadata": {},
   "source": [
    "Code di atas bertujuan untuk menghasilkan variabel independen dalam analisis penyakit jantung. Variabel independen ini diperoleh dengan menghapus kolom \"condition\" dari dataset heart. Dengan menggunakan fungsi drop dan parameter axis=1, kolom \"condition\" dihilangkan dari dataset, dan variabel independen yang terdiri dari fitur-fitur lainnya disimpan dalam variabel x. Code x.head() digunakan untuk menampilkan lima baris pertama dari variabel independen tersebut.\n",
    "\n",
    "Dalam konteks analisis penyakit jantung, variabel independen merujuk pada fitur-fitur atau faktor-faktor yang digunakan untuk memprediksi atau menjelaskan keberadaan atau kondisi penyakit jantung pada individu."
   ]
  },
  {
   "cell_type": "code",
   "execution_count": 13,
   "id": "c3cd5af7",
   "metadata": {},
   "outputs": [
    {
     "data": {
      "text/plain": [
       "0    0\n",
       "1    0\n",
       "2    0\n",
       "3    1\n",
       "4    0\n",
       "Name: condition, dtype: int64"
      ]
     },
     "execution_count": 13,
     "metadata": {},
     "output_type": "execute_result"
    }
   ],
   "source": [
    "# Variabel dependen\n",
    "y = heart[\"condition\"]\n",
    "y.head()"
   ]
  },
  {
   "attachments": {},
   "cell_type": "markdown",
   "id": "57589a98",
   "metadata": {},
   "source": [
    "Code di atas bertujuan untuk mendefinisikan variabel dependen dalam analisis penyakit jantung. Variabel dependen adalah variabel yang ingin diprediksi atau dijelaskan oleh variabel independen dalam suatu model atau analisis.\n",
    "\n",
    "Dalam konteks analisis penyakit jantung, variabel dependen merujuk pada kondisi penyakit jantung pada individu. Dalam code tersebut, variabel dependen diwakili oleh variabel y, yang diperoleh dengan mengambil kolom \"condition\" dari dataset heart. Variabel y akan berisi nilai-nilai yang menunjukkan apakah individu tersebut memiliki penyakit jantung atau tidak.\n",
    "\n",
    "Dengan menggunakan fungsi head(), code y.head() digunakan untuk menampilkan lima nilai pertama dari variabel dependen y, memberikan gambaran awal tentang kondisi penyakit jantung pada dataset"
   ]
  },
  {
   "cell_type": "code",
   "execution_count": 14,
   "id": "288c962a",
   "metadata": {},
   "outputs": [],
   "source": [
    "from sklearn.model_selection import train_test_split"
   ]
  },
  {
   "cell_type": "code",
   "execution_count": 15,
   "id": "5cf80089",
   "metadata": {},
   "outputs": [],
   "source": [
    "x_train, x_test, y_train, y_test = train_test_split(x, y, test_size = 0.2, random_state = 123)"
   ]
  },
  {
   "attachments": {},
   "cell_type": "markdown",
   "id": "3ec5105e",
   "metadata": {},
   "source": [
    "Code di atas digunakan untuk membagi dataset menjadi data pelatihan (training) dan data pengujian (testing) dalam analisis penyakit jantung.\n",
    "\n",
    "Variabel x adalah variabel independen yang berisi fitur-fitur atau faktor-faktor yang digunakan untuk memprediksi penyakit jantung.\n",
    "Variabel y adalah variabel dependen yang berisi kondisi penyakit jantung pada individu.\n",
    "Dalam code tersebut, fungsi train_test_split dari library scikit-learn digunakan untuk melakukan pembagian dataset. Parameter test_size=0.2 menentukan proporsi data yang akan digunakan untuk pengujian, dalam hal ini 20% dari total dataset. Parameter random_state=123 digunakan untuk mengatur seed atau bilangan acak yang digunakan dalam proses pembagian dataset, sehingga memastikan bahwa pembagian dataset yang sama dapat direproduksi.\n",
    "\n",
    "Hasil dari code tersebut adalah empat variabel: x_train, x_test, y_train, y_test. Variabel x_train dan y_train akan berisi data pelatihan yang digunakan untuk melatih model, sedangkan variabel x_test dan y_test akan berisi data pengujian yang digunakan untuk menguji kinerja model. Dengan membagi dataset menjadi data pelatihan dan data pengujian, kita dapat mengukur sejauh mana model dapat memprediksi dengan akurat kondisi penyakit jantung pada data yang belum pernah dilihat sebelumnya."
   ]
  },
  {
   "cell_type": "code",
   "execution_count": 16,
   "id": "737f76e6",
   "metadata": {},
   "outputs": [],
   "source": [
    "modelnb = GaussianNB()"
   ]
  },
  {
   "attachments": {},
   "cell_type": "markdown",
   "id": "68347c54",
   "metadata": {},
   "source": [
    "model Naive Bayes akan mempelajari pola-pola dalam dataset pelatihan untuk mengidentifikasi hubungan antara fitur-fitur dengan kondisi penyakit jantung. Setelah melalui proses pelatihan, model akan siap untuk digunakan dalam melakukan prediksi pada data pengujian."
   ]
  },
  {
   "cell_type": "code",
   "execution_count": 17,
   "id": "6ae6b740",
   "metadata": {},
   "outputs": [],
   "source": [
    "nbtrain = modelnb.fit(x_train, y_train)"
   ]
  },
  {
   "attachments": {},
   "cell_type": "markdown",
   "id": "3c795c88",
   "metadata": {},
   "source": [
    "Dalam code tersebut, metode .fit() digunakan pada objek model Naive Bayes (modelnb) dengan parameter x_train dan y_train. Proses ini akan mengoptimalkan parameter-parameter model sesuai dengan pola-pola yang terdapat pada data pelatihan. Hasilnya, model akan memiliki kemampuan untuk melakukan prediksi berdasarkan fitur-fitur pada data pengujian atau data baru.\n",
    "\n",
    "Variabel nbtrain akan menampung hasil dari proses pelatihan model Naive Bayes. Model yang telah dilatih ini dapat digunakan untuk melakukan prediksi pada data baru."
   ]
  },
  {
   "cell_type": "code",
   "execution_count": 18,
   "id": "57a0d7b6",
   "metadata": {},
   "outputs": [
    {
     "data": {
      "text/plain": [
       "array([128., 109.])"
      ]
     },
     "execution_count": 18,
     "metadata": {},
     "output_type": "execute_result"
    }
   ],
   "source": [
    "nbtrain.class_count_"
   ]
  },
  {
   "attachments": {},
   "cell_type": "markdown",
   "id": "b7a6ce49",
   "metadata": {},
   "source": [
    "Code di atas digunakan untuk mengakses jumlah kasus pada setiap kelas dalam model Naive Bayes yang telah dilatih.\n",
    "\n",
    "Hasil output yang diperoleh dari code tersebut adalah array ([128., 109.]). Artinya, terdapat dua kelas yang diamati dalam model Naive Bayes yang dilatih. Jumlah kasus pada kelas pertama adalah 128, sedangkan jumlah kasus pada kelas kedua adalah 109.\n",
    "\n",
    "Informasi ini memberikan gambaran tentang distribusi kasus pada setiap kelas dalam dataset pelatihan yang digunakan untuk melatih model Naive Bayes. Jumlah kasus pada setiap kelas dapat menjadi acuan dalam mengevaluasi kinerja dan kehandalan model dalam melakukan prediksi pada data"
   ]
  },
  {
   "cell_type": "code",
   "execution_count": 19,
   "id": "6c887e8b",
   "metadata": {},
   "outputs": [
    {
     "data": {
      "text/plain": [
       "array([0, 0, 0, 1, 1, 1, 0, 1, 0, 1, 1, 0, 0, 0, 0, 0, 0, 0, 0, 1, 0, 1,\n",
       "       0, 0, 1, 1, 1, 0, 0, 0, 1, 1, 0, 1, 0, 1, 0, 0, 0, 0, 0, 0, 1, 1,\n",
       "       1, 0, 0, 1, 1, 1, 0, 0, 0, 0, 1, 1, 0, 0, 0, 0], dtype=int64)"
      ]
     },
     "execution_count": 19,
     "metadata": {},
     "output_type": "execute_result"
    }
   ],
   "source": [
    "# Menentukan hasil prediksi dari x_test\n",
    "y_pred = nbtrain.predict(x_test)\n",
    "y_pred"
   ]
  },
  {
   "attachments": {},
   "cell_type": "markdown",
   "id": "db25abfd",
   "metadata": {},
   "source": [
    "Variabel x_test merupakan data pengujian (testing) yang akan digunakan untuk melakukan prediksi.\n",
    "Metode .predict() digunakan pada objek nbtrain yang merupakan model Naive Bayes yang telah dilatih sebelumnya dengan data pelatihan.\n",
    "Hasil prediksi dari model Naive Bayes akan disimpan dalam variabel y_pred. Output dari code tersebut akan menampilkan prediksi dalam bentuk array yang dilakukan oleh model Naive Bayes terhadap data pengujian. Prediksi ini akan memberikan informasi tentang kondisi penyakit jantung yang diprediksi oleh model untuk setiap observasi dalam data pengujian."
   ]
  },
  {
   "cell_type": "code",
   "execution_count": 20,
   "id": "097349d8",
   "metadata": {},
   "outputs": [
    {
     "data": {
      "text/plain": [
       "array([[9.95806301e-01, 4.19369882e-03],\n",
       "       [9.96914837e-01, 3.08516315e-03],\n",
       "       [7.26846116e-01, 2.73153884e-01],\n",
       "       [1.81347237e-02, 9.81865276e-01],\n",
       "       [8.23392930e-03, 9.91766071e-01],\n",
       "       [5.95202993e-09, 9.99999994e-01],\n",
       "       [9.73839880e-01, 2.61601201e-02],\n",
       "       [3.31767771e-06, 9.99996682e-01],\n",
       "       [9.92741489e-01, 7.25851144e-03],\n",
       "       [5.85913198e-04, 9.99414087e-01],\n",
       "       [9.38751071e-06, 9.99990612e-01],\n",
       "       [9.64666393e-01, 3.53336066e-02],\n",
       "       [7.31618306e-01, 2.68381694e-01],\n",
       "       [9.56727205e-01, 4.32727948e-02],\n",
       "       [9.90315225e-01, 9.68477492e-03],\n",
       "       [9.99912424e-01, 8.75760060e-05],\n",
       "       [9.67116801e-01, 3.28831993e-02],\n",
       "       [9.99348408e-01, 6.51591589e-04],\n",
       "       [9.84374814e-01, 1.56251862e-02],\n",
       "       [1.94170494e-01, 8.05829506e-01],\n",
       "       [9.98178505e-01, 1.82149506e-03],\n",
       "       [2.58095377e-03, 9.97419046e-01],\n",
       "       [9.97055067e-01, 2.94493283e-03],\n",
       "       [5.82120818e-01, 4.17879182e-01],\n",
       "       [1.46660442e-05, 9.99985334e-01],\n",
       "       [2.30075235e-02, 9.76992476e-01],\n",
       "       [7.76168805e-02, 9.22383120e-01],\n",
       "       [9.71475500e-01, 2.85245005e-02],\n",
       "       [9.97157019e-01, 2.84298128e-03],\n",
       "       [9.93412214e-01, 6.58778577e-03],\n",
       "       [3.35093171e-02, 9.66490683e-01],\n",
       "       [3.81037469e-04, 9.99618963e-01],\n",
       "       [9.65878018e-01, 3.41219825e-02],\n",
       "       [3.07920391e-01, 6.92079609e-01],\n",
       "       [9.99960382e-01, 3.96184503e-05],\n",
       "       [9.50175919e-04, 9.99049824e-01],\n",
       "       [9.99740906e-01, 2.59093912e-04],\n",
       "       [9.79945951e-01, 2.00540495e-02],\n",
       "       [9.99544392e-01, 4.55607832e-04],\n",
       "       [9.79806040e-01, 2.01939602e-02],\n",
       "       [9.98985840e-01, 1.01415954e-03],\n",
       "       [9.90828610e-01, 9.17139034e-03],\n",
       "       [9.85550476e-11, 1.00000000e+00],\n",
       "       [3.72916596e-06, 9.99996271e-01],\n",
       "       [1.27914214e-03, 9.98720858e-01],\n",
       "       [9.98656977e-01, 1.34302287e-03],\n",
       "       [9.99189704e-01, 8.10295911e-04],\n",
       "       [8.71259020e-06, 9.99991287e-01],\n",
       "       [8.59349801e-05, 9.99914065e-01],\n",
       "       [7.22580515e-03, 9.92774195e-01],\n",
       "       [9.60985794e-01, 3.90142059e-02],\n",
       "       [9.18802256e-01, 8.11977445e-02],\n",
       "       [9.81560799e-01, 1.84392006e-02],\n",
       "       [9.97615332e-01, 2.38466775e-03],\n",
       "       [1.53510322e-05, 9.99984649e-01],\n",
       "       [6.02769222e-06, 9.99993972e-01],\n",
       "       [9.40222550e-01, 5.97774496e-02],\n",
       "       [9.99747616e-01, 2.52383748e-04],\n",
       "       [7.18218485e-01, 2.81781515e-01],\n",
       "       [9.97010513e-01, 2.98948671e-03]])"
      ]
     },
     "execution_count": 20,
     "metadata": {},
     "output_type": "execute_result"
    }
   ],
   "source": [
    "nbtrain.predict_proba(x_test)"
   ]
  },
  {
   "attachments": {},
   "cell_type": "markdown",
   "id": "d06c569d",
   "metadata": {},
   "source": [
    "Code di atas digunakan untuk menghasilkan probabilitas prediksi dari model Naive Bayes terhadap data pengujian.\n",
    "\n",
    "Variabel x_test merupakan data pengujian yang akan digunakan untuk memperoleh probabilitas prediksi.\n",
    "Metode .predict_proba() digunakan pada objek nbtrain, yang merupakan model Naive Bayes yang telah dilatih sebelumnya.\n",
    "Hasil output dari code tersebut akan menampilkan probabilitas prediksi untuk setiap kelas dalam bentuk matriks. Setiap elemen dalam matriks mewakili probabilitas bahwa observasi data pengujian termasuk dalam suatu kelas tertentu. Probabilitas ini memberikan informasi tentang tingkat keyakinan model Naive Bayes terhadap setiap kelas dalam melakukan prediksi pada data pengujian."
   ]
  },
  {
   "cell_type": "code",
   "execution_count": 21,
   "id": "f49595b8",
   "metadata": {},
   "outputs": [],
   "source": [
    "from sklearn.metrics import confusion_matrix"
   ]
  },
  {
   "attachments": {},
   "cell_type": "markdown",
   "id": "aa480357",
   "metadata": {},
   "source": [
    "mengimpor fungsi confusion_matrix, kita dapat menggunakannya untuk menghasilkan matriks kebingungan (confusion matrix) yang akan memberikan informasi tentang jumlah prediksi yang benar dan salah dari model.\n",
    "\n",
    "Namun, reminder bahwa code di atas hanya mengimpor fungsi confusion_matrix dan belum digunakan secara langsung untuk menghasilkan matriks kebingungan."
   ]
  },
  {
   "cell_type": "code",
   "execution_count": 22,
   "id": "42ca0777",
   "metadata": {},
   "outputs": [
    {
     "data": {
      "text/html": [
       "<div>\n",
       "<style scoped>\n",
       "    .dataframe tbody tr th:only-of-type {\n",
       "        vertical-align: middle;\n",
       "    }\n",
       "\n",
       "    .dataframe tbody tr th {\n",
       "        vertical-align: top;\n",
       "    }\n",
       "\n",
       "    .dataframe thead th {\n",
       "        text-align: right;\n",
       "    }\n",
       "</style>\n",
       "<table border=\"1\" class=\"dataframe\">\n",
       "  <thead>\n",
       "    <tr style=\"text-align: right;\">\n",
       "      <th>prediction</th>\n",
       "      <th>0</th>\n",
       "      <th>1</th>\n",
       "    </tr>\n",
       "    <tr>\n",
       "      <th>actual</th>\n",
       "      <th></th>\n",
       "      <th></th>\n",
       "    </tr>\n",
       "  </thead>\n",
       "  <tbody>\n",
       "    <tr>\n",
       "      <th>0</th>\n",
       "      <td>27</td>\n",
       "      <td>3</td>\n",
       "    </tr>\n",
       "    <tr>\n",
       "      <th>1</th>\n",
       "      <td>7</td>\n",
       "      <td>24</td>\n",
       "    </tr>\n",
       "  </tbody>\n",
       "</table>\n",
       "</div>"
      ],
      "text/plain": [
       "prediction   0   1\n",
       "actual            \n",
       "0           27   3\n",
       "1            7  24"
      ]
     },
     "execution_count": 22,
     "metadata": {},
     "output_type": "execute_result"
    }
   ],
   "source": [
    "y_actual = pd.Series([1, 0, 0, 0, 1, 0, 1, 1, 1, 0, 0, 1, 0, 0, 0, 0, 1, 0, 0, 1, 1, 0,\n",
    "       1, 1, 0, 0, 0, 0, 0, 1, 0, 1, 1, 0, 0, 1, 1, 1, 1, 1, 1, 0, 0, 1,\n",
    "       1, 0, 0, 0, 1, 1, 0, 0, 1, 1, 0, 1, 1, 1, 0, 1, 1], name = \"actual\")\n",
    "y_pred = pd.Series([1, 0, 0, 0, 1, 0, 1, 0, 1, 0, 0, 1, 0, 0, 0, 0, 0, 0, 0, 1, 1, 0,\n",
    "       1, 0, 0, 0, 0, 0, 0, 0, 0, 1, 1, 0, 1, 1, 1, 1, 1, 1, 1, 1, 0, 1,\n",
    "       1, 0, 0, 0, 1, 1, 0, 0, 1, 0, 1, 1, 0, 1, 0, 1, 0], name = \"prediction\")\n",
    "df_confusion = pd.crosstab(y_actual, y_pred)\n",
    "df_confusion"
   ]
  },
  {
   "attachments": {},
   "cell_type": "markdown",
   "id": "502525d3",
   "metadata": {},
   "source": [
    "Dalam code di atas, dilakukan pengelompokan nilai sebenarnya dan prediksi menjadi dua Series terpisah yaitu y_actual dan y_pred. Selanjutnya, dilakukan perhitungan matriks kebingungan (confusion matrix) berdasarkan nilai-nilai tersebut.\n",
    "\n",
    "Hasil dari code tersebut adalah DataFrame df_confusion yang berisi matriks kebingungan. Matriks ini menunjukkan jumlah prediksi yang benar dan salah pada setiap kombinasi kelas prediksi dan nilai sebenarnya. Matriks kebingungan ini dapat memberikan gambaran tentang performa model dalam melakukan prediksi pada data yang diberikan.\n",
    "\n",
    "Dengan melihat matriks kebingungan, kita dapat menganalisis sejauh mana model mampu mengklasifikasikan data dengan benar atau salah ke dalam kelas-kelas yang ada dan menghitung metrik evaluasi seperti akurasi, presisi, recall, dan lainnya untuk mengevaluasi performa model klasifikasi."
   ]
  },
  {
   "attachments": {},
   "cell_type": "markdown",
   "id": "2edcbaf2",
   "metadata": {},
   "source": [
    "<div style=\"color:orange;\n",
    "           display:fill;\n",
    "           border-radius:5px;\n",
    "           font-family:montserrat;\n",
    "           letter-spacing:0.5px;\n",
    "            text-align:center;\n",
    "            padding: 1px;\">\n",
    "\n",
    "<p style=\"padding: 6px;\n",
    "            color:white;\n",
    "            text-align:center;\n",
    "            font-size:150%;\">\n",
    "            Normality Test\n",
    "</p>\n",
    "</div>"
   ]
  },
  {
   "cell_type": "code",
   "execution_count": 23,
   "id": "a1c1ad59",
   "metadata": {},
   "outputs": [
    {
     "name": "stdout",
     "output_type": "stream",
     "text": [
      "Fitur age:\n",
      "    Statistik Uji: 0.9859738945960999\n",
      "    Nilai p: 0.005425513256341219\n",
      "    Hipotesis nol ditolak, data tidak terdistribusi normal.\n",
      "-----------------------------------------\n",
      "Fitur sex:\n",
      "    Statistik Uji: 0.5893421173095703\n",
      "    Nilai p: 5.917986439756619e-26\n",
      "    Hipotesis nol ditolak, data tidak terdistribusi normal.\n",
      "-----------------------------------------\n",
      "Fitur cp:\n",
      "    Statistik Uji: 0.7894224524497986\n",
      "    Nilai p: 2.7134969815978474e-19\n",
      "    Hipotesis nol ditolak, data tidak terdistribusi normal.\n",
      "-----------------------------------------\n",
      "Fitur trestbps:\n",
      "    Statistik Uji: 0.9667578339576721\n",
      "    Nilai p: 2.415487415419193e-06\n",
      "    Hipotesis nol ditolak, data tidak terdistribusi normal.\n",
      "-----------------------------------------\n",
      "Fitur chol:\n",
      "    Statistik Uji: 0.9482874870300293\n",
      "    Nilai p: 1.0190227328621404e-08\n",
      "    Hipotesis nol ditolak, data tidak terdistribusi normal.\n",
      "-----------------------------------------\n",
      "Fitur fbs:\n",
      "    Statistik Uji: 0.41847044229507446\n",
      "    Nilai p: 7.652606650067845e-30\n",
      "    Hipotesis nol ditolak, data tidak terdistribusi normal.\n",
      "-----------------------------------------\n",
      "Fitur restecg:\n",
      "    Statistik Uji: 0.6449873447418213\n",
      "    Nilai p: 2.0625432982316002e-24\n",
      "    Hipotesis nol ditolak, data tidak terdistribusi normal.\n",
      "-----------------------------------------\n",
      "Fitur thalach:\n",
      "    Statistik Uji: 0.9766392111778259\n",
      "    Nilai p: 9.043131285579875e-05\n",
      "    Hipotesis nol ditolak, data tidak terdistribusi normal.\n",
      "-----------------------------------------\n",
      "Fitur exang:\n",
      "    Statistik Uji: 0.5911890268325806\n",
      "    Nilai p: 6.617177895659707e-26\n",
      "    Hipotesis nol ditolak, data tidak terdistribusi normal.\n",
      "-----------------------------------------\n",
      "Fitur oldpeak:\n",
      "    Statistik Uji: 0.8481451272964478\n",
      "    Nilai p: 2.0404659739886572e-16\n",
      "    Hipotesis nol ditolak, data tidak terdistribusi normal.\n",
      "-----------------------------------------\n",
      "Fitur slope:\n",
      "    Statistik Uji: 0.7456134557723999\n",
      "    Nilai p: 4.524930386154732e-21\n",
      "    Hipotesis nol ditolak, data tidak terdistribusi normal.\n",
      "-----------------------------------------\n",
      "Fitur ca:\n",
      "    Statistik Uji: 0.7207401990890503\n",
      "    Nilai p: 5.583779630385232e-22\n",
      "    Hipotesis nol ditolak, data tidak terdistribusi normal.\n",
      "-----------------------------------------\n",
      "Fitur thal:\n",
      "    Statistik Uji: 0.6641114950180054\n",
      "    Nilai p: 7.721862789508121e-24\n",
      "    Hipotesis nol ditolak, data tidak terdistribusi normal.\n",
      "-----------------------------------------\n"
     ]
    }
   ],
   "source": [
    "import pandas as pd\n",
    "import numpy as np\n",
    "from scipy.stats import shapiro\n",
    "\n",
    "# Load dataset\n",
    "dataset = pd.read_csv(\"heart_cleveland_upload.csv\")\n",
    "\n",
    "# Split data menjadi fitur (X) dan target (y)\n",
    "X = dataset.drop('condition', axis=1)\n",
    "y = dataset['condition']\n",
    "\n",
    "# Normality Test\n",
    "# Lakukan normality test pada setiap fitur menggunakan Shapiro-Wilk Test\n",
    "for column in X.columns:\n",
    "    # Periksa apakah fitur merupakan fitur numerik\n",
    "    if np.issubdtype(X[column].dtype, np.number):\n",
    "        # Lakukan normality test dengan Shapiro-Wilk Test\n",
    "        stat, p = shapiro(X[column])\n",
    "        alpha = 0.05\n",
    "        print(f\"Fitur {column}:\")\n",
    "        print(f\"    Statistik Uji: {stat}\")\n",
    "        print(f\"    Nilai p: {p}\")\n",
    "        if p > alpha:\n",
    "            print(\"    Hipotesis nol diterima, data terdistribusi normal.\")\n",
    "        else:\n",
    "            print(\"    Hipotesis nol ditolak, data tidak terdistribusi normal.\")\n",
    "        print(\"-----------------------------------------\")\n",
    "\n"
   ]
  },
  {
   "attachments": {},
   "cell_type": "markdown",
   "id": "af0a48ba",
   "metadata": {},
   "source": [
    "Pada Code di atas, dilakukan beberapa langkah untuk menganalisis normalitas data pada dataset yang dimuat. \n",
    "\n",
    "Pertama-tama, dataset \"heart_cleveland_upload.csv\" dimuat menggunakan library pandas dan disimpan ke dalam variabel \"dataset\".\n",
    "\n",
    "Setelah itu, dilakukan pemisahan data menjadi fitur (X) dan target (y). Fitur-fitur yang digunakan untuk analisis normalitas terletak di variabel \"X\", sedangkan target terletak di variabel \"y\". Fitur-target tersebut digunakan untuk melakukan normality test.\n",
    "\n",
    "Selanjutnya, dilakukan normality test pada setiap fitur menggunakan metode Shapiro-Wilk Test. Normality test ini bertujuan untuk menguji apakah data pada setiap fitur terdistribusi normal atau tidak.\n",
    "\n",
    "Pada pengulangan for, dilakukan iterasi pada setiap kolom fitur dalam \"X.columns\". Ini berarti normality test akan dilakukan pada setiap fitur secara berurutan.\n",
    "\n",
    "Dalam setiap iterasi, terdapat pengecekan apakah fitur merupakan fitur numerik. Hal ini dilakukan dengan menggunakan fungsi np.issubdtype dan memeriksa tipe data kolom fitur apakah bertipe numerik atau bukan.\n",
    "\n",
    "Jika fitur merupakan fitur numerik, maka dilakukan normality test dengan menggunakan metode Shapiro-Wilk Test. Hasil dari normality test tersebut akan menghasilkan statistik uji (stat) dan nilai p (p-value).\n",
    "\n",
    "Setelah itu, hasil dari normality test pada fitur tersebut. Statistik uji (stat) dan nilai p (p-value) ditampilkan menggunakan print statement.\n",
    "\n",
    "Selanjutnya, dilakukan pengecekan apakah nilai p (p-value) lebih besar dari alpha yang ditetapkan (0.05 dalam kasus ini). Jika nilai p lebih besar dari alpha, maka hipotesis nol diterima, yang berarti data terdistribusi normal. Sebaliknya, jika nilai p lebih kecil atau sama dengan alpha, maka hipotesis nol ditolak, yang berarti data tidak terdistribusi normal.\n",
    "\n",
    "Setelah itu, dilakukan pemisahan antara setiap fitur yang terdistribusi normal dan tidak terdistribusi normal. Fitur-fitur yang tidak terdistribusi normal akan ditampilkan dalam output, yaitu fitur age, sex, cp, trestbps, dan chol.\n",
    "\n",
    "Setelah pengulangan selesai, akan ditampilkan garis pemisah (separator) untuk membedakan antara setiap fitur yang diperiksa.\n",
    "\n",
    "Dengan demikian, Code di atas melakukan normality test pada setiap fitur dalam dataset dan mengidentifikasi fitur-fitur yang tidak terdistribusi normal. Fitur-fitur yang tidak terdistribusi normal adalah age, sex, cp, trestbps, dan chol."
   ]
  },
  {
   "cell_type": "code",
   "execution_count": 34,
   "id": "46f7f6b8",
   "metadata": {},
   "outputs": [
    {
     "data": {
      "image/png": "[encoded data removed]",
      "text/plain": [
       "<Figure size 1000x600 with 1 Axes>"
      ]
     },
     "metadata": {},
     "output_type": "display_data"
    },
    {
     "data": {
      "image/png": "[encoded data removed]",
      "text/plain": [
       "<Figure size 1000x600 with 1 Axes>"
      ]
     },
     "metadata": {},
     "output_type": "display_data"
    }
   ],
   "source": [
    "import matplotlib.pyplot as plt\n",
    "import numpy as np\n",
    "\n",
    "# Plot Bar - Analisis Normalitas Fitur\n",
    "plt.figure(figsize=(10, 6))\n",
    "normality_test = X.apply(lambda column: shapiro(column)[1] > alpha if np.issubdtype(column.dtype, np.number) else False)\n",
    "normality_test = normality_test.map({True: 1, False: 0})\n",
    "plt.bar(np.arange(len(normality_test)), normality_test.values)\n",
    "plt.xlabel('Fitur')\n",
    "plt.ylabel('Terdistribusi Normal (1: Ya, 0: Tidak)')\n",
    "plt.title('Analisis Normalitas Fitur')\n",
    "plt.xticks(np.arange(len(X.columns)), X.columns, rotation=90)\n",
    "plt.show()\n",
    "\n",
    "# Plot Bar - Distribusi Kondisi Penyakit Jantung\n",
    "plt.figure(figsize=(10, 6))\n",
    "plt.bar(np.arange(len(y.value_counts())), y.value_counts())\n",
    "plt.xlabel('Kondisi')\n",
    "plt.ylabel('Jumlah Data')\n",
    "plt.title('Distribusi Kondisi Penyakit Jantung')\n",
    "plt.xticks(np.arange(len(X.columns)), X.columns, rotation=90)\n",
    "plt.show()\n",
    "\n"
   ]
  },
  {
   "attachments": {},
   "cell_type": "markdown",
   "id": "d8252054",
   "metadata": {},
   "source": [
    "<div style=\"color:orange;\n",
    "           display:fill;\n",
    "           border-radius:5px;\n",
    "           font-family:montserrat;\n",
    "           letter-spacing:0.5px;\n",
    "            text-align:center;\n",
    "            padding: 1px;\">\n",
    "\n",
    "<p style=\"padding: 6px;\n",
    "            color:white;\n",
    "            text-align:center;\n",
    "            font-size:150%;\">\n",
    "            Model\n",
    "</p>\n",
    "</div>"
   ]
  },
  {
   "cell_type": "code",
   "execution_count": 30,
   "id": "09ca0dfb",
   "metadata": {},
   "outputs": [
    {
     "name": "stdout",
     "output_type": "stream",
     "text": [
      "              precision    recall  f1-score   support\n",
      "\n",
      "           0       0.79      0.90      0.84        30\n",
      "           1       0.89      0.77      0.83        31\n",
      "\n",
      "    accuracy                           0.84        61\n",
      "   macro avg       0.84      0.84      0.84        61\n",
      "weighted avg       0.84      0.84      0.84        61\n",
      "\n"
     ]
    }
   ],
   "source": [
    "from sklearn.metrics import classification_report\n",
    "print(classification_report(y_actual, y_pred))"
   ]
  },
  {
   "attachments": {},
   "cell_type": "markdown",
   "id": "2f495841",
   "metadata": {},
   "source": [
    "Code di atas mengimpor fungsi classification_report dari library scikit-learn dan mencetak laporan klasifikasi.\n",
    "\n",
    "classification_report adalah sebuah fungsi yang digunakan untuk menghasilkan laporan klasifikasi yang mencakup beberapa metrik evaluasi seperti akurasi, presisi, recall, dan f1-score untuk setiap kelas yang diamati.\n",
    "Setelah mengimport fungsi classification_report, fungsi tersebut digunakan dengan argumen y_actual dan y_pred, yang merupakan nilai sebenarnya dan hasil prediksi dari model.\n",
    "Hasil laporan klasifikasi akan dicetak menggunakan perintah print().\n",
    "Output dari code tersebut akan menampilkan laporan klasifikasi yang terdiri dari metrik evaluasi untuk setiap kelas, serta nilai rata-rata secara keseluruhan. Laporan ini memberikan informasi tentang kinerja model klasifikasi, termasuk akurasi (accuracy), presisi (precision), recall (recall), f1-score, dan support untuk setiap kelas.\n",
    "\n",
    "Dengan melihat laporan klasifikasi, kita dapat mengevaluasi performa model secara komprehensif dan mendapatkan wawasan tentang kemampuan model dalam mengklasifikasikan data ke dalam kelas-kelas yang ada.                                   "
   ]
  },
  {
   "cell_type": "code",
   "execution_count": 41,
   "id": "77c5950e",
   "metadata": {},
   "outputs": [],
   "source": [
    "y_pred = modelnb.predict(x_test)"
   ]
  },
  {
   "attachments": {},
   "cell_type": "markdown",
   "id": "54ed24c4",
   "metadata": {},
   "source": [
    "Dengan menjalankan y_pred, maka kita dapat menggunakannya untuk mengevaluasi kinerja model Naive Bayes atau membandingkannya dengan label sebenarnya (y_test) untuk menghitung akurasinya."
   ]
  },
  {
   "attachments": {},
   "cell_type": "markdown",
   "id": "10b7a041",
   "metadata": {},
   "source": [
    "<div style=\"color:orange;\n",
    "           display:fill;\n",
    "           border-radius:5px;\n",
    "           font-family:montserrat;\n",
    "           letter-spacing:0.5px;\n",
    "            text-align:center;\n",
    "            padding: 1px;\">\n",
    "\n",
    "<p style=\"padding: 6px;\n",
    "            color:white;\n",
    "            text-align:center;\n",
    "            font-size:150%;\">\n",
    "            Prediksi Akurasi !\n",
    "</p>\n",
    "</div>"
   ]
  },
  {
   "cell_type": "code",
   "execution_count": 42,
   "id": "b143a52b",
   "metadata": {},
   "outputs": [
    {
     "name": "stdout",
     "output_type": "stream",
     "text": [
      "Akurasi: 85.00%\n"
     ]
    }
   ],
   "source": [
    "accuracy = accuracy_score(y_test, y_pred)\n",
    "print(\"Akurasi: {:.2f}%\".format(accuracy * 100))"
   ]
  },
  {
   "attachments": {},
   "cell_type": "markdown",
   "id": "733c44cc",
   "metadata": {},
   "source": [
    "Code di atas digunakan untuk menghitung dan mencetak akurasi dari hasil prediksi model.\n",
    "\n",
    "Fungsi accuracy_score dari library scikit-learn digunakan untuk menghitung akurasi berdasarkan nilai sebenarnya (y_test) dan hasil prediksi (y_pred).\n",
    "Hasil akurasi kemudian dikalikan dengan 100 untuk mendapatkan persentase akurasi.\n",
    "Akurasi yang dihasilkan kemudian dicetak menggunakan perintah print().\n",
    "Output dari code tersebut akan mencetak nilai akurasi dalam bentuk persentase, misalnya \"Akurasi: 85.00%\". Akurasi merupakan metrik evaluasi yang mengukur sejauh mana model mampu melakukan prediksi dengan benar terhadap data pengujian. Semakin tinggi nilai akurasi, semakin baik performa model dalam melakukan klasifikasi data.\n"
   ]
  }
 ],
 "metadata": {
  "kernelspec": {
   "display_name": "Python 3 (ipykernel)",
   "language": "python",
   "name": "python3"
  },
  "language_info": {
   "codemirror_mode": {
    "name": "ipython",
    "version": 3
   },
   "file_extension": ".py",
   "mimetype": "text/x-python",
   "name": "python",
   "nbconvert_exporter": "python",
   "pygments_lexer": "ipython3",
   "version": "3.11.4"
  }
 },
 "nbformat": 4,
 "nbformat_minor": 5
}
